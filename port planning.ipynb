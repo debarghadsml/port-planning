{
 "cells": [
  {
   "cell_type": "markdown",
   "id": "da1d012f",
   "metadata": {},
   "source": [
    "# IMPORT TRAFFIC PLANNING NAD BERTH CALCULATION"
   ]
  },
  {
   "cell_type": "code",
   "execution_count": 1,
   "id": "ee40fd6a",
   "metadata": {},
   "outputs": [],
   "source": [
    "import numpy as np\n",
    "import pandas as pd\n",
    "import matplotlib.pyplot as plt\n",
    "import seaborn as sns\n",
    "import math"
   ]
  },
  {
   "cell_type": "code",
   "execution_count": 2,
   "id": "20add9e0",
   "metadata": {},
   "outputs": [],
   "source": [
    "import_df = pd.read_csv(r'C:\\Users\\DEBARGHA SEN\\Desktop\\ROYAL HUSKONING\\PLANNING\\import traffic..csv' , index_col = 'Sl. No.') "
   ]
  },
  {
   "cell_type": "code",
   "execution_count": 3,
   "id": "f12fce58",
   "metadata": {},
   "outputs": [],
   "source": [
    "import_df = import_df.dropna()"
   ]
  },
  {
   "cell_type": "code",
   "execution_count": 4,
   "id": "5f87a063",
   "metadata": {},
   "outputs": [],
   "source": [
    "import_df.columns = [['Type' , 'traffic']]"
   ]
  },
  {
   "cell_type": "code",
   "execution_count": 5,
   "id": "097a84d8",
   "metadata": {
    "scrolled": true
   },
   "outputs": [
    {
     "data": {
      "text/html": [
       "<div>\n",
       "<style scoped>\n",
       "    .dataframe tbody tr th:only-of-type {\n",
       "        vertical-align: middle;\n",
       "    }\n",
       "\n",
       "    .dataframe tbody tr th {\n",
       "        vertical-align: top;\n",
       "    }\n",
       "\n",
       "    .dataframe thead tr th {\n",
       "        text-align: left;\n",
       "    }\n",
       "\n",
       "    .dataframe thead tr:last-of-type th {\n",
       "        text-align: right;\n",
       "    }\n",
       "</style>\n",
       "<table border=\"1\" class=\"dataframe\">\n",
       "  <thead>\n",
       "    <tr>\n",
       "      <th></th>\n",
       "      <th>Type</th>\n",
       "      <th>traffic</th>\n",
       "    </tr>\n",
       "    <tr>\n",
       "      <th>Sl. No.</th>\n",
       "      <th></th>\n",
       "      <th></th>\n",
       "    </tr>\n",
       "  </thead>\n",
       "  <tbody>\n",
       "    <tr>\n",
       "      <th>1</th>\n",
       "      <td>Coal</td>\n",
       "      <td>11.5</td>\n",
       "    </tr>\n",
       "    <tr>\n",
       "      <th>2</th>\n",
       "      <td>Limestone</td>\n",
       "      <td>3.5</td>\n",
       "    </tr>\n",
       "    <tr>\n",
       "      <th>3</th>\n",
       "      <td>Dolomite</td>\n",
       "      <td>1.0</td>\n",
       "    </tr>\n",
       "    <tr>\n",
       "      <th>4</th>\n",
       "      <td>Gypsum</td>\n",
       "      <td>0.5</td>\n",
       "    </tr>\n",
       "    <tr>\n",
       "      <th>5</th>\n",
       "      <td>Clinker</td>\n",
       "      <td>6.5</td>\n",
       "    </tr>\n",
       "  </tbody>\n",
       "</table>\n",
       "</div>"
      ],
      "text/plain": [
       "              Type traffic\n",
       "Sl. No.                   \n",
       "1             Coal    11.5\n",
       "2        Limestone     3.5\n",
       "3         Dolomite     1.0\n",
       "4           Gypsum     0.5\n",
       "5          Clinker     6.5"
      ]
     },
     "execution_count": 5,
     "metadata": {},
     "output_type": "execute_result"
    }
   ],
   "source": [
    "import_df"
   ]
  },
  {
   "cell_type": "code",
   "execution_count": 6,
   "id": "596f30ce",
   "metadata": {},
   "outputs": [
    {
     "data": {
      "text/plain": [
       "Type    Coal\n",
       "Name: 1, dtype: object"
      ]
     },
     "execution_count": 6,
     "metadata": {},
     "output_type": "execute_result"
    }
   ],
   "source": [
    "import_df['Type'].iloc[0]"
   ]
  },
  {
   "cell_type": "markdown",
   "id": "9eaf649f",
   "metadata": {},
   "source": [
    "# STORAGE TYPE AND CAPACITY CALCULATION"
   ]
  },
  {
   "cell_type": "markdown",
   "id": "2f15f15a",
   "metadata": {},
   "source": [
    "## Type of storage input "
   ]
  },
  {
   "cell_type": "code",
   "execution_count": 7,
   "id": "78188f04",
   "metadata": {},
   "outputs": [
    {
     "name": "stdout",
     "output_type": "stream",
     "text": [
      "What type of storage device you want for Type    Coal\n",
      "Name: 1, dtype: object is:-stock piles \n",
      "What type of storage device you want for Type    Limestone\n",
      "Name: 2, dtype: object is:-dome\n",
      "What type of storage device you want for Type    Dolomite\n",
      "Name: 3, dtype: object is:-silos\n",
      "What type of storage device you want for Type    Gypsum\n",
      "Name: 4, dtype: object is:-silos\n",
      "What type of storage device you want for Type    Clinker\n",
      "Name: 5, dtype: object is:-silos\n"
     ]
    }
   ],
   "source": [
    "a = str(input('What type of storage device you want for {} is:-'.format(import_df['Type'].iloc[0])))\n",
    "b = str(input('What type of storage device you want for {} is:-'.format(import_df['Type'].iloc[1])))\n",
    "c = str(input('What type of storage device you want for {} is:-'.format(import_df['Type'].iloc[2])))\n",
    "d = str(input('What type of storage device you want for {} is:-'.format(import_df['Type'].iloc[3])))\n",
    "e = str(input('What type of storage device you want for {} is:-'.format(import_df['Type'].iloc[4])))"
   ]
  },
  {
   "cell_type": "markdown",
   "id": "adf46ffe",
   "metadata": {},
   "source": [
    "## dwell time required for each and every type of traffic "
   ]
  },
  {
   "cell_type": "code",
   "execution_count": 8,
   "id": "6cca665f",
   "metadata": {},
   "outputs": [
    {
     "name": "stdout",
     "output_type": "stream",
     "text": [
      "dweel time required for Type    Coal\n",
      "Name: 1, dtype: object is:-30 \n",
      "dweel time required for Type    Limestone\n",
      "Name: 2, dtype: object is:-30\n",
      "dweel time required for Type    Dolomite\n",
      "Name: 3, dtype: object is:-30\n",
      "dweel time required for Type    Gypsum\n",
      "Name: 4, dtype: object is:-30\n",
      "dweel time required for Type    Clinker\n",
      "Name: 5, dtype: object is:-15\n"
     ]
    }
   ],
   "source": [
    "e = int(input('dweel time required for {} is:-'.format(import_df['Type'].iloc[0])))\n",
    "f = int(input('dweel time required for {} is:-'.format(import_df['Type'].iloc[1])))\n",
    "g = int(input('dweel time required for {} is:-'.format(import_df['Type'].iloc[2])))\n",
    "h = int(input('dweel time required for {} is:-'.format(import_df['Type'].iloc[3])))\n",
    "i = int(input('dweel time required for {} is:-'.format(import_df['Type'].iloc[4])))"
   ]
  },
  {
   "cell_type": "markdown",
   "id": "affd396b",
   "metadata": {},
   "source": [
    "## Specific geavity input  "
   ]
  },
  {
   "cell_type": "code",
   "execution_count": 9,
   "id": "5045adea",
   "metadata": {},
   "outputs": [
    {
     "name": "stdout",
     "output_type": "stream",
     "text": [
      "the specific gravity of Type    Coal\n",
      "Name: 1, dtype: object is:-0.8\n",
      "the specific gravity of Type    Limestone\n",
      "Name: 2, dtype: object is:-1.5\n",
      "the specific gravity of Type    Dolomite\n",
      "Name: 3, dtype: object is:-2.85\n",
      "the specific gravity of Type    Gypsum\n",
      "Name: 4, dtype: object is:-2.3\n",
      "the specific gravity of Type    Clinker\n",
      "Name: 5, dtype: object is:-1.5\n"
     ]
    }
   ],
   "source": [
    "o = float(input('the specific gravity of {} is:-' .format(import_df['Type'].iloc[0])))\n",
    "p = float(input('the specific gravity of {} is:-' .format(import_df['Type'].iloc[1])))\n",
    "q = float(input('the specific gravity of {} is:-' .format(import_df['Type'].iloc[2])))\n",
    "r = float(input('the specific gravity of {} is:-' .format(import_df['Type'].iloc[3])))\n",
    "s = float(input('the specific gravity of {} is:-' .format(import_df['Type'].iloc[4])))"
   ]
  },
  {
   "cell_type": "markdown",
   "id": "d402e8fc",
   "metadata": {},
   "source": [
    "## storage required for dwell time in mM^3"
   ]
  },
  {
   "cell_type": "code",
   "execution_count": 10,
   "id": "5389b519",
   "metadata": {},
   "outputs": [
    {
     "name": "stdout",
     "output_type": "stream",
     "text": [
      "the traffic to be handeled in the dwell time forType    Coal\n",
      "Name: 1, dtype: object is:- traffic    1.232143\n",
      "Name: 1, dtype: float64\n",
      "the traffic to be handeled in the dwell time forType    Limestone\n",
      "Name: 2, dtype: object is:- traffic    0.2\n",
      "Name: 2, dtype: float64\n",
      "the traffic to be handeled in the dwell time forType    Dolomite\n",
      "Name: 3, dtype: object is:- traffic    0.030075\n",
      "Name: 3, dtype: float64\n",
      "the traffic to be handeled in the dwell time forType    Gypsum\n",
      "Name: 4, dtype: object is:- traffic    0.018634\n",
      "Name: 4, dtype: float64\n",
      "the traffic to be handeled in the dwell time forType    Clinker\n",
      "Name: 5, dtype: object is:- traffic    0.185714\n",
      "Name: 5, dtype: float64\n"
     ]
    }
   ],
   "source": [
    "j = import_df['traffic'].iloc[0]*e/(350*o)\n",
    "print('the traffic to be handeled in the dwell time for{} is:-' . format(import_df['Type'].iloc[0]) , j)\n",
    "k = import_df['traffic'].iloc[1]*f/(350*p)\n",
    "print('the traffic to be handeled in the dwell time for{} is:-' . format(import_df['Type'].iloc[1]) , k)\n",
    "l = import_df['traffic'].iloc[2]*g/(350*q)\n",
    "print('the traffic to be handeled in the dwell time for{} is:-' . format(import_df['Type'].iloc[2]) , l)\n",
    "m = import_df['traffic'].iloc[3]*h/(350*r)\n",
    "print('the traffic to be handeled in the dwell time for{} is:-' . format(import_df['Type'].iloc[3]) , m)\n",
    "n = import_df['traffic'].iloc[4]*i/(350*s)\n",
    "print('the traffic to be handeled in the dwell time for{} is:-' . format(import_df['Type'].iloc[4]) , n)"
   ]
  },
  {
   "cell_type": "markdown",
   "id": "4cd45bc5",
   "metadata": {},
   "source": [
    "##  Stockpiles volume in mM^3"
   ]
  },
  {
   "cell_type": "code",
   "execution_count": 11,
   "id": "db03a12d",
   "metadata": {},
   "outputs": [
    {
     "name": "stdout",
     "output_type": "stream",
     "text": [
      "Enter stockpile base width:-50\n",
      "Enter stockpile top width:-15\n",
      "Enter area of one triangular wedge:-500\n",
      "Enter height of cone for 4 corner of stoc pile:-10\n",
      "Enter dia of cone:-100\n",
      "Enter stockpile length:-1500\n",
      "the volume of 1 stock pile:-  0.51617994\n"
     ]
    }
   ],
   "source": [
    "t1 = float(input('Enter stockpile base width:-'))\n",
    "t2 = float(input('Enter stockpile top width:-'))\n",
    "t3 = float(input('Enter area of one triangular wedge:-'))\n",
    "t4 = float(input('Enter height of cone for 4 corner of stoc pile:-'))\n",
    "t5 = float(input('Enter dia of cone:-'))\n",
    "t6 = float(input('Enter stockpile length:-'))\n",
    "t7 = (np.round((((0.5*(t1+t2)*t4*t6)+(t3*5)+((np.pi)*(t5)*(t5)*0.25*t4/3))),2))/1000000\n",
    "print('the volume of 1 stock pile:- ' , t7)"
   ]
  },
  {
   "cell_type": "markdown",
   "id": "e489aa31",
   "metadata": {},
   "source": [
    "##  Silos volume in mM^3"
   ]
  },
  {
   "cell_type": "code",
   "execution_count": 12,
   "id": "3e74aae7",
   "metadata": {},
   "outputs": [
    {
     "name": "stdout",
     "output_type": "stream",
     "text": [
      "Enter silos dia:-25\n",
      "Enter silos cylindrical portion height:-80\n",
      "Enter silos conical portion height:-30\n",
      "the volume of 1 silos is:-  0.08953538999999999\n"
     ]
    }
   ],
   "source": [
    "u1 = float(input('Enter silos dia:-'))\n",
    "u2 = float(input('Enter silos cylindrical portion height:-'))\n",
    "u3 = float(input('Enter silos conical portion height:-'))\n",
    "u4 = (np.round((((np.pi)*u1*u1*0.25*u2)+((np.pi) * u2*u2*0.25*u3/3)),2))/1000000\n",
    "print('the volume of 1 silos is:- ' , u4)"
   ]
  },
  {
   "cell_type": "markdown",
   "id": "0d4f04dc",
   "metadata": {},
   "source": [
    "##  Limestone Dome volume in mM^3"
   ]
  },
  {
   "cell_type": "code",
   "execution_count": 21,
   "id": "72597f80",
   "metadata": {},
   "outputs": [
    {
     "name": "stdout",
     "output_type": "stream",
     "text": [
      "Enter dome dia:-80\n",
      "Enter dome height:-30\n",
      "the volume of limestone dome is :-  0.13404129\n"
     ]
    }
   ],
   "source": [
    "v1 = float(input('Enter dome dia:-'))\n",
    "v2 = float(input('Enter dome height:-'))\n",
    "v3 = (np.round((2/3)*(np.pi)*(v1*v1*v1*0.5*0.5*0.5),2))/1000000\n",
    "print('the volume of limestone dome is :- ' , v3)"
   ]
  },
  {
   "cell_type": "markdown",
   "id": "a956c3c4",
   "metadata": {},
   "source": [
    "# Number of storage device required"
   ]
  },
  {
   "cell_type": "markdown",
   "id": "3c60e09d",
   "metadata": {},
   "source": [
    "## number of stock piles required for given dwell time "
   ]
  },
  {
   "cell_type": "code",
   "execution_count": 15,
   "id": "698344d3",
   "metadata": {},
   "outputs": [
    {
     "name": "stdout",
     "output_type": "stream",
     "text": [
      "The number of stock piles is required :- 3\n"
     ]
    }
   ],
   "source": [
    "w = math.ceil((j/t7))\n",
    "print('The number of stock piles is required :-' , w)"
   ]
  },
  {
   "cell_type": "markdown",
   "id": "1143a045",
   "metadata": {},
   "source": [
    "## number of silos required for dolomite at given dwell time "
   ]
  },
  {
   "cell_type": "code",
   "execution_count": 17,
   "id": "8d9d190a",
   "metadata": {},
   "outputs": [
    {
     "name": "stdout",
     "output_type": "stream",
     "text": [
      "the number of silos required for dolomite 1\n"
     ]
    }
   ],
   "source": [
    "x = math.ceil((l/u4))\n",
    "print('the number of silos required for dolomite' , x)"
   ]
  },
  {
   "cell_type": "markdown",
   "id": "44fa3b3c",
   "metadata": {},
   "source": [
    "## number of silos required for clinker at given dwell time "
   ]
  },
  {
   "cell_type": "code",
   "execution_count": 18,
   "id": "ad358dc4",
   "metadata": {},
   "outputs": [
    {
     "name": "stdout",
     "output_type": "stream",
     "text": [
      "the number of silos required for clinker 3\n"
     ]
    }
   ],
   "source": [
    "y = math.ceil((n/u4))\n",
    "print('the number of silos required for clinker' , y)"
   ]
  },
  {
   "cell_type": "markdown",
   "id": "0943cbc0",
   "metadata": {},
   "source": [
    "## number of silos required for gypsum at given dwell time "
   ]
  },
  {
   "cell_type": "code",
   "execution_count": 19,
   "id": "965efd57",
   "metadata": {},
   "outputs": [
    {
     "name": "stdout",
     "output_type": "stream",
     "text": [
      "the number of silos for gypsum 1\n"
     ]
    }
   ],
   "source": [
    "z = math.ceil((m/u4))\n",
    "print('the number of silos for gypsum' , z)"
   ]
  },
  {
   "cell_type": "markdown",
   "id": "9e3bc529",
   "metadata": {},
   "source": [
    "## number of Dome required for given dwell time  "
   ]
  },
  {
   "cell_type": "code",
   "execution_count": 22,
   "id": "776de611",
   "metadata": {},
   "outputs": [
    {
     "name": "stdout",
     "output_type": "stream",
     "text": [
      "the number of limestone dome required is:-  2\n"
     ]
    }
   ],
   "source": [
    "a1 = math.ceil((k/v3))\n",
    "print('the number of limestone dome required is:- ' , a1)"
   ]
  },
  {
   "cell_type": "markdown",
   "id": "1821d835",
   "metadata": {},
   "source": [
    "# Berth Requirement"
   ]
  },
  {
   "cell_type": "markdown",
   "id": "a9c5d6b9",
   "metadata": {},
   "source": [
    "## no. of berth for all the traffic "
   ]
  },
  {
   "cell_type": "markdown",
   "id": "49dce709",
   "metadata": {},
   "source": [
    "### anual traffic for all the traffic"
   ]
  },
  {
   "cell_type": "code",
   "execution_count": 23,
   "id": "7c1891fe",
   "metadata": {},
   "outputs": [],
   "source": [
    "df = pd.read_csv(r'C:\\Users\\DEBARGHA SEN\\Desktop\\jose portila\\wifi password\\import measure.csv')"
   ]
  },
  {
   "cell_type": "code",
   "execution_count": 24,
   "id": "c385b2b1",
   "metadata": {},
   "outputs": [],
   "source": [
    "df = df.drop(['Unnamed: 2' , 'Unnamed: 3' , 'Unnamed: 4' , 'Unnamed: 5' , 'Unnamed: 6' , 'Unnamed: 7' , 'Unnamed: 8' , 'Unnamed: 9' , 'Unnamed: 10'] , axis = 1)"
   ]
  },
  {
   "cell_type": "code",
   "execution_count": 25,
   "id": "c64a413c",
   "metadata": {},
   "outputs": [
    {
     "data": {
      "text/html": [
       "<div>\n",
       "<style scoped>\n",
       "    .dataframe tbody tr th:only-of-type {\n",
       "        vertical-align: middle;\n",
       "    }\n",
       "\n",
       "    .dataframe tbody tr th {\n",
       "        vertical-align: top;\n",
       "    }\n",
       "\n",
       "    .dataframe thead th {\n",
       "        text-align: right;\n",
       "    }\n",
       "</style>\n",
       "<table border=\"1\" class=\"dataframe\">\n",
       "  <thead>\n",
       "    <tr style=\"text-align: right;\">\n",
       "      <th></th>\n",
       "      <th>TRAFFIC</th>\n",
       "      <th>MTPA</th>\n",
       "    </tr>\n",
       "  </thead>\n",
       "  <tbody>\n",
       "    <tr>\n",
       "      <th>0</th>\n",
       "      <td>coal</td>\n",
       "      <td>12.294666</td>\n",
       "    </tr>\n",
       "    <tr>\n",
       "      <th>1</th>\n",
       "      <td>dolomite</td>\n",
       "      <td>11.442774</td>\n",
       "    </tr>\n",
       "    <tr>\n",
       "      <th>2</th>\n",
       "      <td>gypsum</td>\n",
       "      <td>11.442774</td>\n",
       "    </tr>\n",
       "    <tr>\n",
       "      <th>3</th>\n",
       "      <td>clinker</td>\n",
       "      <td>11.442774</td>\n",
       "    </tr>\n",
       "    <tr>\n",
       "      <th>4</th>\n",
       "      <td>limestone</td>\n",
       "      <td>11.442774</td>\n",
       "    </tr>\n",
       "  </tbody>\n",
       "</table>\n",
       "</div>"
      ],
      "text/plain": [
       "     TRAFFIC       MTPA\n",
       "0       coal  12.294666\n",
       "1   dolomite  11.442774\n",
       "2     gypsum  11.442774\n",
       "3    clinker  11.442774\n",
       "4  limestone  11.442774"
      ]
     },
     "execution_count": 25,
     "metadata": {},
     "output_type": "execute_result"
    }
   ],
   "source": [
    "df.head()"
   ]
  },
  {
   "cell_type": "code",
   "execution_count": 27,
   "id": "4e350663",
   "metadata": {},
   "outputs": [
    {
     "name": "stdout",
     "output_type": "stream",
     "text": [
      "the no. of berth required for coal is:-  1\n",
      "the no. of berth required for dolomite is:-  1\n",
      "the no. of berth required for gypsum is:-  1\n",
      "the no. of berth required for clinker is:-  1\n",
      "the no. of berth required for limestone is:-  1\n"
     ]
    }
   ],
   "source": [
    "a2 = math.ceil(import_df['traffic'].iloc[0] / df['MTPA'][0])\n",
    "print('the no. of berth required for coal is:- ' , a2)\n",
    "a3 = math.ceil(import_df['traffic'].iloc[2] / df['MTPA'][1])\n",
    "print('the no. of berth required for dolomite is:- ' , a3)\n",
    "a4 = math.ceil(import_df['traffic'].iloc[3] / df['MTPA'][2])\n",
    "print('the no. of berth required for gypsum is:- ' , a4)\n",
    "a5 = math.ceil(import_df['traffic'].iloc[4] / df['MTPA'][3])\n",
    "print('the no. of berth required for clinker is:- ' , a5)\n",
    "a6 = math.ceil(import_df['traffic'].iloc[2] / df['MTPA'][4])\n",
    "print('the no. of berth required for limestone is:- ' , a6)"
   ]
  },
  {
   "cell_type": "markdown",
   "id": "880da456",
   "metadata": {},
   "source": [
    "# EXPORT TRAFFIC PLANNING AND BERTH CALCULATION"
   ]
  },
  {
   "cell_type": "code",
   "execution_count": 28,
   "id": "7aeef516",
   "metadata": {},
   "outputs": [],
   "source": [
    "export_df = pd.read_csv(r'C:\\Users\\DEBARGHA SEN\\Desktop\\ROYAL HUSKONING\\PLANNING\\export traffic.csv' , index_col = 'EXPORT')"
   ]
  },
  {
   "cell_type": "code",
   "execution_count": 29,
   "id": "fd65371e",
   "metadata": {},
   "outputs": [],
   "source": [
    "export_df.columns = [[ 'Product' , 'Traffic']]"
   ]
  },
  {
   "cell_type": "code",
   "execution_count": 30,
   "id": "5c3cfb7e",
   "metadata": {},
   "outputs": [
    {
     "data": {
      "text/html": [
       "<div>\n",
       "<style scoped>\n",
       "    .dataframe tbody tr th:only-of-type {\n",
       "        vertical-align: middle;\n",
       "    }\n",
       "\n",
       "    .dataframe tbody tr th {\n",
       "        vertical-align: top;\n",
       "    }\n",
       "\n",
       "    .dataframe thead tr th {\n",
       "        text-align: left;\n",
       "    }\n",
       "\n",
       "    .dataframe thead tr:last-of-type th {\n",
       "        text-align: right;\n",
       "    }\n",
       "</style>\n",
       "<table border=\"1\" class=\"dataframe\">\n",
       "  <thead>\n",
       "    <tr>\n",
       "      <th></th>\n",
       "      <th>Product</th>\n",
       "      <th>Traffic</th>\n",
       "    </tr>\n",
       "    <tr>\n",
       "      <th>EXPORT</th>\n",
       "      <th></th>\n",
       "      <th></th>\n",
       "    </tr>\n",
       "  </thead>\n",
       "  <tbody>\n",
       "    <tr>\n",
       "      <th>1</th>\n",
       "      <td>Finished Steel Products</td>\n",
       "      <td>10</td>\n",
       "    </tr>\n",
       "    <tr>\n",
       "      <th>2</th>\n",
       "      <td>Pellets</td>\n",
       "      <td>10</td>\n",
       "    </tr>\n",
       "    <tr>\n",
       "      <th>3</th>\n",
       "      <td>Cement</td>\n",
       "      <td>6</td>\n",
       "    </tr>\n",
       "  </tbody>\n",
       "</table>\n",
       "</div>"
      ],
      "text/plain": [
       "                        Product Traffic\n",
       "EXPORT                                 \n",
       "1       Finished Steel Products      10\n",
       "2                       Pellets      10\n",
       "3                        Cement       6"
      ]
     },
     "execution_count": 30,
     "metadata": {},
     "output_type": "execute_result"
    }
   ],
   "source": [
    "export_df.head()"
   ]
  },
  {
   "cell_type": "markdown",
   "id": "13839c0b",
   "metadata": {},
   "source": [
    "## Type of Storage For export traffic "
   ]
  },
  {
   "cell_type": "code",
   "execution_count": 31,
   "id": "aef956d5",
   "metadata": {},
   "outputs": [
    {
     "name": "stdout",
     "output_type": "stream",
     "text": [
      "The type of storage requred for Product    Finished Steel Products\n",
      "Name: 1, dtype: object traffic is:-shaded storage\n",
      "The type of storage required for Product    Pellets\n",
      "Name: 2, dtype: object traffic is :- silos\n",
      "the type of storage required for Product    Cement\n",
      "Name: 3, dtype: object traffic is :-silos\n"
     ]
    }
   ],
   "source": [
    "aaa = input(str('The type of storage requred for {} traffic is:-' .format(export_df['Product'] . iloc[0])))\n",
    "bbb = input(str('The type of storage required for {} traffic is :- ' .format(export_df['Product'] . iloc[1]))) \n",
    "ccc = input(str('the type of storage required for {} traffic is :-' .format(export_df['Product'].iloc[2])))"
   ]
  },
  {
   "cell_type": "markdown",
   "id": "722fbe41",
   "metadata": {},
   "source": [
    "## Dwell time required for every traffic "
   ]
  },
  {
   "cell_type": "code",
   "execution_count": 43,
   "id": "a1ef5890",
   "metadata": {},
   "outputs": [
    {
     "name": "stdout",
     "output_type": "stream",
     "text": [
      "Dwell time required for Product    Finished Steel Products\n",
      "Name: 1, dtype: object traffic is:-15\n",
      "Dwell time required for Product    Pellets\n",
      "Name: 2, dtype: object traffic is :- 15\n",
      "Dwell Time required for Product    Cement\n",
      "Name: 3, dtype: object traffic is :-30\n"
     ]
    }
   ],
   "source": [
    "ddd = int(input('Dwell time required for {} traffic is:-' .format(export_df['Product'].iloc[0])))\n",
    "eee = int(input('Dwell time required for {} traffic is :- ' .format(export_df['Product'].iloc[1])))\n",
    "fff = int(input('Dwell Time required for {} traffic is :-'.format(export_df['Product'].iloc[2])))"
   ]
  },
  {
   "cell_type": "markdown",
   "id": "3f708487",
   "metadata": {},
   "source": [
    "# Silos volume calculation"
   ]
  },
  {
   "cell_type": "code",
   "execution_count": 45,
   "id": "0ed154d4",
   "metadata": {},
   "outputs": [
    {
     "name": "stdout",
     "output_type": "stream",
     "text": [
      "Enter the silos dia:-50\n",
      "Enter the silos height:-80\n",
      "Enter the cone height:-30\n",
      "The volume of one silos is :- 0.1767145867644259\n"
     ]
    }
   ],
   "source": [
    "ggg = int(input('Enter the silos dia:-'))\n",
    "hhh = int(input('Enter the silos height:-'))\n",
    "iii = int(input('Enter the cone height:-'))\n",
    "jjj = (((np.pi)*(ggg*ggg/4)*hhh) + ((1/3)*(np.pi)*(ggg*ggg/4)*iii))/1000000\n",
    "print('The volume of one silos is :-' , jjj)"
   ]
  },
  {
   "cell_type": "markdown",
   "id": "6bb25543",
   "metadata": {},
   "source": [
    "# calculated traffic for every dwell time"
   ]
  },
  {
   "cell_type": "code",
   "execution_count": 46,
   "id": "51269a51",
   "metadata": {},
   "outputs": [
    {
     "name": "stdout",
     "output_type": "stream",
     "text": [
      "the dwell time traffic for Product    Finished Steel Products\n",
      "Name: 1, dtype: object is:- Traffic    0.428571\n",
      "Name: 1, dtype: float64\n",
      "the dwell time traffic for Product    Pellets\n",
      "Name: 2, dtype: object is:- Traffic    0.428571\n",
      "Name: 2, dtype: float64\n",
      "the dwell time traffic for Product    Cement\n",
      "Name: 3, dtype: object is:- Traffic    0.514286\n",
      "Name: 3, dtype: float64\n"
     ]
    }
   ],
   "source": [
    "kkk = (export_df['Traffic'].iloc[0]*ddd/350)\n",
    "print('the dwell time traffic for {} is:-' .format(export_df['Product'].iloc[0]) , kkk)\n",
    "lll = (export_df['Traffic'].iloc[1]*eee/350)\n",
    "print('the dwell time traffic for {} is:-' .format(export_df['Product'].iloc[1]) , lll)\n",
    "mmm = (export_df['Traffic'].iloc[2]*fff/350)\n",
    "print('the dwell time traffic for {} is:-' .format(export_df['Product'].iloc[2]) , mmm)"
   ]
  },
  {
   "cell_type": "markdown",
   "id": "72eec5ca",
   "metadata": {},
   "source": [
    "# No. of silos requied for each traffic"
   ]
  },
  {
   "cell_type": "code",
   "execution_count": 49,
   "id": "056aae79",
   "metadata": {},
   "outputs": [
    {
     "name": "stdout",
     "output_type": "stream",
     "text": [
      "the no.of silos required for Product    Pellets\n",
      "Name: 2, dtype: object:- 3\n",
      "the no. of silos required for Product    Cement\n",
      "Name: 3, dtype: object:- 3\n"
     ]
    }
   ],
   "source": [
    "nnn = math.ceil(lll/jjj)\n",
    "print('the no.of silos required for {}:-' .format(export_df['Product'].iloc[1]), nnn)\n",
    "ooo = math.ceil(mmm/jjj)\n",
    "print('the no. of silos required for {}:-' .format(export_df['Product'].iloc[2]), ooo)"
   ]
  },
  {
   "cell_type": "markdown",
   "id": "afa98b08",
   "metadata": {},
   "source": [
    "# Shaded storage made for steel product"
   ]
  },
  {
   "cell_type": "code",
   "execution_count": 51,
   "id": "96542c01",
   "metadata": {},
   "outputs": [
    {
     "name": "stdout",
     "output_type": "stream",
     "text": [
      "The number of coils in one column:-3\n",
      "The number of rows:-20\n",
      "the number of roll at top2\n",
      "weigh of one steel coil30\n",
      "The total weight of one stck:- 3600\n"
     ]
    }
   ],
   "source": [
    "ppp = int(input('The number of coils in one column:-'))\n",
    "qqq = int(input('The number of rows:-'))\n",
    "rrr = int(input('the number of roll at top'))\n",
    "sss = int(input('weigh of one steel coil'))\n",
    "ttt = (ppp*qqq*rrr*sss)\n",
    "print('The total weight of one stck:-' , ttt)"
   ]
  },
  {
   "cell_type": "markdown",
   "id": "76e5776d",
   "metadata": {},
   "source": [
    "# No. of stacks required"
   ]
  },
  {
   "cell_type": "code",
   "execution_count": 54,
   "id": "f669eb24",
   "metadata": {},
   "outputs": [
    {
     "name": "stdout",
     "output_type": "stream",
     "text": [
      "the number of stacks required:- 120\n"
     ]
    }
   ],
   "source": [
    "uuu = math.ceil((kkk*1000000/ttt))\n",
    "print('the number of stacks required:-' , uuu)"
   ]
  },
  {
   "cell_type": "markdown",
   "id": "0b6b625a",
   "metadata": {},
   "source": [
    "# no. of Berths required"
   ]
  },
  {
   "cell_type": "code",
   "execution_count": 58,
   "id": "32445357",
   "metadata": {},
   "outputs": [],
   "source": [
    "df1 = pd.read_csv(r'C:\\Users\\DEBARGHA SEN\\Desktop\\ROYAL HUSKONING\\PLANNING\\export mesures.csv')"
   ]
  },
  {
   "cell_type": "code",
   "execution_count": 59,
   "id": "7dba902a",
   "metadata": {},
   "outputs": [
    {
     "data": {
      "text/html": [
       "<div>\n",
       "<style scoped>\n",
       "    .dataframe tbody tr th:only-of-type {\n",
       "        vertical-align: middle;\n",
       "    }\n",
       "\n",
       "    .dataframe tbody tr th {\n",
       "        vertical-align: top;\n",
       "    }\n",
       "\n",
       "    .dataframe thead th {\n",
       "        text-align: right;\n",
       "    }\n",
       "</style>\n",
       "<table border=\"1\" class=\"dataframe\">\n",
       "  <thead>\n",
       "    <tr style=\"text-align: right;\">\n",
       "      <th></th>\n",
       "      <th>product</th>\n",
       "      <th>capacity</th>\n",
       "    </tr>\n",
       "  </thead>\n",
       "  <tbody>\n",
       "    <tr>\n",
       "      <th>0</th>\n",
       "      <td>steel product</td>\n",
       "      <td>5.1977</td>\n",
       "    </tr>\n",
       "    <tr>\n",
       "      <th>1</th>\n",
       "      <td>peletts</td>\n",
       "      <td>12.1995</td>\n",
       "    </tr>\n",
       "    <tr>\n",
       "      <th>2</th>\n",
       "      <td>cement</td>\n",
       "      <td>5.3527</td>\n",
       "    </tr>\n",
       "  </tbody>\n",
       "</table>\n",
       "</div>"
      ],
      "text/plain": [
       "         product  capacity\n",
       "0  steel product    5.1977\n",
       "1        peletts   12.1995\n",
       "2         cement    5.3527"
      ]
     },
     "execution_count": 59,
     "metadata": {},
     "output_type": "execute_result"
    }
   ],
   "source": [
    "df1.head()"
   ]
  },
  {
   "cell_type": "code",
   "execution_count": 61,
   "id": "04ef80f9",
   "metadata": {},
   "outputs": [
    {
     "name": "stdout",
     "output_type": "stream",
     "text": [
      "The no.of berth required for Product    Finished Steel Products\n",
      "Name: 1, dtype: object 2\n",
      "The no.of berth required for Product    Pellets\n",
      "Name: 2, dtype: object 1\n",
      "The no.of berth required for Product    Cement\n",
      "Name: 3, dtype: object 2\n"
     ]
    }
   ],
   "source": [
    "vvv = math.ceil((export_df['Traffic'].iloc[0])/df1['capacity'].iloc[0])\n",
    "print('The no.of berth required for {}'.format(export_df['Product'].iloc[0]) , vvv)\n",
    "www = math.ceil((export_df['Traffic'].iloc[1])/df1['capacity'].iloc[1])\n",
    "print('The no.of berth required for {}'.format(export_df['Product'].iloc[1]) , www)\n",
    "xxx = math.ceil((export_df['Traffic'].iloc[2])/df1['capacity'].iloc[2])\n",
    "print('The no.of berth required for {}'.format(export_df['Product'].iloc[2]) , xxx)"
   ]
  },
  {
   "cell_type": "code",
   "execution_count": null,
   "id": "fe0f48e9",
   "metadata": {},
   "outputs": [],
   "source": []
  },
  {
   "cell_type": "code",
   "execution_count": null,
   "id": "99f70d56",
   "metadata": {},
   "outputs": [],
   "source": []
  }
 ],
 "metadata": {
  "kernelspec": {
   "display_name": "Python 3 (ipykernel)",
   "language": "python",
   "name": "python3"
  },
  "language_info": {
   "codemirror_mode": {
    "name": "ipython",
    "version": 3
   },
   "file_extension": ".py",
   "mimetype": "text/x-python",
   "name": "python",
   "nbconvert_exporter": "python",
   "pygments_lexer": "ipython3",
   "version": "3.10.9"
  }
 },
 "nbformat": 4,
 "nbformat_minor": 5
}
